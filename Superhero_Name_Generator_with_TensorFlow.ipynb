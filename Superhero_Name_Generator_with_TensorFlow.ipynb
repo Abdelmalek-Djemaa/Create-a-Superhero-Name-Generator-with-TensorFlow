{
  "nbformat": 4,
  "nbformat_minor": 0,
  "metadata": {
    "colab": {
      "provenance": [],
      "gpuType": "T4",
      "authorship_tag": "ABX9TyP+2cDBKgoz2FNbZzcp0AJQ",
      "include_colab_link": true
    },
    "kernelspec": {
      "name": "python3",
      "display_name": "Python 3"
    },
    "language_info": {
      "name": "python"
    },
    "accelerator": "GPU"
  },
  "cells": [
    {
      "cell_type": "markdown",
      "metadata": {
        "id": "view-in-github",
        "colab_type": "text"
      },
      "source": [
        "<a href=\"https://colab.research.google.com/github/Abdelmalek-Djemaa/Create-a-Superhero-Name-Generator-with-TensorFlow/blob/main/Superhero_Name_Generator_with_TensorFlow.ipynb\" target=\"_parent\"><img src=\"https://colab.research.google.com/assets/colab-badge.svg\" alt=\"Open In Colab\"/></a>"
      ]
    },
    {
      "cell_type": "markdown",
      "source": [
        "# Superhero Name Generator\n"
      ],
      "metadata": {
        "id": "_esY3LNRy3MB"
      }
    },
    {
      "cell_type": "markdown",
      "source": [
        "## Task 1\n",
        "\n",
        "1. Import the data\n",
        "2. Create a tokenizer\n",
        "3. Char to index and Index to char dictionaries"
      ],
      "metadata": {
        "id": "8aPpcFiTy9JB"
      }
    },
    {
      "cell_type": "code",
      "source": [
        "%matplotlib inline\n",
        "import numpy as np\n",
        "import tensorflow as tf\n",
        "import matplotlib.pyplot as plt\n",
        "from sklearn.model_selection import train_test_split\n",
        "from tensorflow.keras.models import Sequential\n",
        "from tensorflow.keras.layers import LSTM, Embedding , Conv1D , MaxPool1D , Dense, Bidirectional"
      ],
      "metadata": {
        "id": "fGAmueeO0x1M"
      },
      "execution_count": 3,
      "outputs": []
    },
    {
      "cell_type": "code",
      "source": [
        "with open('/content/superheroes.txt', 'r') as file:\n",
        "  data = file.read()\n",
        "data[:100]"
      ],
      "metadata": {
        "colab": {
          "base_uri": "https://localhost:8080/",
          "height": 53
        },
        "id": "XzqYJTib03wi",
        "outputId": "735dc08a-0d3d-4193-d3b5-7e047083e92d"
      },
      "execution_count": 4,
      "outputs": [
        {
          "output_type": "execute_result",
          "data": {
            "text/plain": [
              "'jumpa\\t\\ndoctor fate\\t\\nstarlight\\t\\nisildur\\t\\nlasher\\t\\nvarvara\\t\\nthe target\\t\\naxel\\t\\nbattra\\t\\nchangeling\\t\\npyrrh'"
            ],
            "application/vnd.google.colaboratory.intrinsic+json": {
              "type": "string"
            }
          },
          "metadata": {},
          "execution_count": 4
        }
      ]
    },
    {
      "cell_type": "code",
      "source": [
        "# Create an instance of the Tokenizer class from the Keras preprocessing text module\n",
        "tokenizer = tf.keras.preprocessing.text.Tokenizer(\n",
        "    # Specify the characters to filter out during the tokenization process\n",
        "    filters='!\"#$%&()*+,-./:;<=>?@[\\\\]^_`{|}~',\n",
        "\n",
        "    # Define the character to use for splitting the text into tokens\n",
        "    split='\\n',\n",
        ")"
      ],
      "metadata": {
        "id": "Zcdadnoz1B0d"
      },
      "execution_count": 5,
      "outputs": []
    },
    {
      "cell_type": "code",
      "source": [
        "# Fit the tokenizer on the provided text data\n",
        "tokenizer.fit_on_texts(data)"
      ],
      "metadata": {
        "id": "VADln7tk1GcS"
      },
      "execution_count": 6,
      "outputs": []
    },
    {
      "cell_type": "code",
      "source": [
        "# Retrieve the word-to-index mapping from the tokenizer\n",
        "char_to_index = tokenizer.word_index\n",
        "\n",
        "# Create a dictionary to map index to character\n",
        "index_to_char = dict((index, char) for char, index in char_to_index.items())\n",
        "print(char_to_index)"
      ],
      "metadata": {
        "colab": {
          "base_uri": "https://localhost:8080/"
        },
        "id": "-57ecsIq2Q9Q",
        "outputId": "308a568a-39e8-4092-e12f-74752bd87ffe"
      },
      "execution_count": 7,
      "outputs": [
        {
          "output_type": "stream",
          "name": "stdout",
          "text": [
            "{'\\t': 1, 'a': 2, 'e': 3, 'r': 4, 'o': 5, 'n': 6, 'i': 7, ' ': 8, 't': 9, 's': 10, 'l': 11, 'm': 12, 'h': 13, 'd': 14, 'c': 15, 'u': 16, 'g': 17, 'k': 18, 'b': 19, 'p': 20, 'y': 21, 'w': 22, 'f': 23, 'v': 24, 'j': 25, 'z': 26, 'x': 27, 'q': 28}\n"
          ]
        }
      ]
    },
    {
      "cell_type": "markdown",
      "source": [
        "## Task 2\n",
        "\n",
        "1. Converting between names and sequences"
      ],
      "metadata": {
        "id": "JVSkPA446ND3"
      }
    },
    {
      "cell_type": "code",
      "source": [
        "names = data.split('\\n')\n",
        "names[:10]"
      ],
      "metadata": {
        "colab": {
          "base_uri": "https://localhost:8080/"
        },
        "id": "DUFIIJeF2lmN",
        "outputId": "2d4a1263-7497-4fd0-fe1b-45c8f964769c"
      },
      "execution_count": 8,
      "outputs": [
        {
          "output_type": "execute_result",
          "data": {
            "text/plain": [
              "['jumpa\\t',\n",
              " 'doctor fate\\t',\n",
              " 'starlight\\t',\n",
              " 'isildur\\t',\n",
              " 'lasher\\t',\n",
              " 'varvara\\t',\n",
              " 'the target\\t',\n",
              " 'axel\\t',\n",
              " 'battra\\t',\n",
              " 'changeling\\t']"
            ]
          },
          "metadata": {},
          "execution_count": 8
        }
      ]
    },
    {
      "cell_type": "code",
      "source": [
        "tokenizer.texts_to_sequences(names[0])"
      ],
      "metadata": {
        "colab": {
          "base_uri": "https://localhost:8080/"
        },
        "id": "DPNbWhDt6niM",
        "outputId": "e4eae06d-0ce6-43be-8fdf-317735f7f3fc"
      },
      "execution_count": 9,
      "outputs": [
        {
          "output_type": "execute_result",
          "data": {
            "text/plain": [
              "[[25], [16], [12], [20], [2], [1]]"
            ]
          },
          "metadata": {},
          "execution_count": 9
        }
      ]
    },
    {
      "cell_type": "code",
      "source": [
        "def name_to_sequence(name):\n",
        "  return [tokenizer.word_index[char] for char in name]"
      ],
      "metadata": {
        "id": "ZoEBPW2O7Br7"
      },
      "execution_count": 10,
      "outputs": []
    },
    {
      "cell_type": "code",
      "source": [
        "name_to_sequence(names[0])"
      ],
      "metadata": {
        "colab": {
          "base_uri": "https://localhost:8080/"
        },
        "id": "iCx-2YOS7kp0",
        "outputId": "58efb988-4c74-4884-9603-29c981dc7fa1"
      },
      "execution_count": 11,
      "outputs": [
        {
          "output_type": "execute_result",
          "data": {
            "text/plain": [
              "[25, 16, 12, 20, 2, 1]"
            ]
          },
          "metadata": {},
          "execution_count": 11
        }
      ]
    },
    {
      "cell_type": "code",
      "source": [
        "def sequence_to_name(sequence):\n",
        "  return ''.join([index_to_char[index] for index in sequence])"
      ],
      "metadata": {
        "id": "phYIUkbC7r8Z"
      },
      "execution_count": 12,
      "outputs": []
    },
    {
      "cell_type": "code",
      "source": [
        "sequence_to_name(name_to_sequence(names[0]))"
      ],
      "metadata": {
        "colab": {
          "base_uri": "https://localhost:8080/",
          "height": 35
        },
        "id": "eeW6cNkO7-X_",
        "outputId": "292548ad-c584-4fcd-b0fb-fde9f7880528"
      },
      "execution_count": 13,
      "outputs": [
        {
          "output_type": "execute_result",
          "data": {
            "text/plain": [
              "'jumpa\\t'"
            ],
            "application/vnd.google.colaboratory.intrinsic+json": {
              "type": "string"
            }
          },
          "metadata": {},
          "execution_count": 13
        }
      ]
    },
    {
      "cell_type": "markdown",
      "source": [
        "## Task 3\n",
        "\n",
        "1. Creating sequences\n",
        "2. Padding all sequences"
      ],
      "metadata": {
        "id": "C_yAEPYe8jU_"
      }
    },
    {
      "cell_type": "code",
      "source": [
        "name_sequences = []\n",
        "\n",
        "for name in names:\n",
        "    sequence = name_to_sequence(name)  # Convert the name to a sequence of tokens or indices\n",
        "\n",
        "    # Check if the length of the sequence is at least 2\n",
        "    if len(sequence) >= 2:\n",
        "        # Generate subsequences of lengths 2 up to the length of the sequence\n",
        "        name_sequences += [sequence[:i] for i in range(2, len(sequence) + 1)]\n",
        "\n",
        "name_sequences[:10]\n"
      ],
      "metadata": {
        "colab": {
          "base_uri": "https://localhost:8080/"
        },
        "id": "fgzoHQlG8BsL",
        "outputId": "33d9bf2f-db16-4a58-f843-8c009105ccc9"
      },
      "execution_count": 14,
      "outputs": [
        {
          "output_type": "execute_result",
          "data": {
            "text/plain": [
              "[[25, 16],\n",
              " [25, 16, 12],\n",
              " [25, 16, 12, 20],\n",
              " [25, 16, 12, 20, 2],\n",
              " [25, 16, 12, 20, 2, 1],\n",
              " [14, 5],\n",
              " [14, 5, 15],\n",
              " [14, 5, 15, 9],\n",
              " [14, 5, 15, 9, 5],\n",
              " [14, 5, 15, 9, 5, 4]]"
            ]
          },
          "metadata": {},
          "execution_count": 14
        }
      ]
    },
    {
      "cell_type": "code",
      "source": [
        "max_len = max([len(sequence) for sequence in name_sequences])\n",
        "print(max_len)"
      ],
      "metadata": {
        "colab": {
          "base_uri": "https://localhost:8080/"
        },
        "id": "yF3fUzJO86Lv",
        "outputId": "bc1b62ca-5f6e-47bc-e237-f90f8cde2203"
      },
      "execution_count": 15,
      "outputs": [
        {
          "output_type": "stream",
          "name": "stdout",
          "text": [
            "33\n"
          ]
        }
      ]
    },
    {
      "cell_type": "code",
      "source": [
        "# Pad sequences to ensure uniform length\n",
        "padded_sequences = tf.keras.preprocessing.sequence.pad_sequences(\n",
        "    name_sequences,  # List of sequences to pad\n",
        "    maxlen=max_len,   # Maximum length to pad sequences to\n",
        "    padding='pre',    # Padding position ('pre' means padding is added at the beginning of sequences)\n",
        ")\n",
        "padded_sequences"
      ],
      "metadata": {
        "colab": {
          "base_uri": "https://localhost:8080/"
        },
        "id": "Z1g4VPwL-dpX",
        "outputId": "c3570fad-85a0-44e7-d1d9-5cda759a5338"
      },
      "execution_count": 16,
      "outputs": [
        {
          "output_type": "execute_result",
          "data": {
            "text/plain": [
              "array([[ 0,  0,  0, ...,  0, 25, 16],\n",
              "       [ 0,  0,  0, ..., 25, 16, 12],\n",
              "       [ 0,  0,  0, ..., 16, 12, 20],\n",
              "       ...,\n",
              "       [ 0,  0,  0, ..., 11,  5, 20],\n",
              "       [ 0,  0,  0, ...,  5, 20, 10],\n",
              "       [ 0,  0,  0, ..., 20, 10,  1]], dtype=int32)"
            ]
          },
          "metadata": {},
          "execution_count": 16
        }
      ]
    },
    {
      "cell_type": "code",
      "source": [
        "padded_sequences.shape"
      ],
      "metadata": {
        "colab": {
          "base_uri": "https://localhost:8080/"
        },
        "id": "-62zSU-G-5-q",
        "outputId": "d54967fc-4cb6-47e4-c980-d00a2ffd7b1d"
      },
      "execution_count": 17,
      "outputs": [
        {
          "output_type": "execute_result",
          "data": {
            "text/plain": [
              "(88279, 33)"
            ]
          },
          "metadata": {},
          "execution_count": 17
        }
      ]
    },
    {
      "cell_type": "markdown",
      "source": [
        "## Task 4: Creating Training and Validation Sets\n",
        "\n",
        "1. Creating training and validation sets"
      ],
      "metadata": {
        "id": "Sh1LdGf1s0Ou"
      }
    },
    {
      "cell_type": "code",
      "source": [
        "x = padded_sequences[:, :-1]\n",
        "y = padded_sequences[:, -1]\n",
        "print(x.shape , y.shape)"
      ],
      "metadata": {
        "colab": {
          "base_uri": "https://localhost:8080/"
        },
        "id": "86zdUY2dtVf1",
        "outputId": "15bc8c64-8427-40e0-a973-dcd85fdfc596"
      },
      "execution_count": 18,
      "outputs": [
        {
          "output_type": "stream",
          "name": "stdout",
          "text": [
            "(88279, 32) (88279,)\n"
          ]
        }
      ]
    },
    {
      "cell_type": "code",
      "source": [
        "x_train , x_test , y_train , y_test = train_test_split(x , y , test_size = 0.2 , random_state = 42)\n",
        "print(x_train.shape , y_train.shape)\n",
        "print(x_test.shape , y_test.shape)"
      ],
      "metadata": {
        "colab": {
          "base_uri": "https://localhost:8080/"
        },
        "id": "5xwTIDD1tz23",
        "outputId": "e66cb0d1-366a-474f-f6f5-ef571538dd9b"
      },
      "execution_count": 19,
      "outputs": [
        {
          "output_type": "stream",
          "name": "stdout",
          "text": [
            "(70623, 32) (70623,)\n",
            "(17656, 32) (17656,)\n"
          ]
        }
      ]
    },
    {
      "cell_type": "markdown",
      "source": [
        "## Task 5: Creating the Model"
      ],
      "metadata": {
        "id": "xjIAQLPxuiYp"
      }
    },
    {
      "cell_type": "code",
      "source": [
        "model = Sequential([\n",
        "    Embedding(input_dim=len(char_to_index) + 1, output_dim=16, input_length=max_len - 1),\n",
        "    Conv1D(filters=64, kernel_size=5, padding='causal', activation='relu'),\n",
        "    MaxPool1D(pool_size=2),\n",
        "    LSTM(units=128),\n",
        "    tf.keras.layers.Flatten(),\n",
        "    Dense(units=len(char_to_index) + 1, activation='softmax'),\n",
        "])\n",
        "\n",
        "model.compile(\n",
        "    optimizer='adam',\n",
        "    loss='sparse_categorical_crossentropy',\n",
        "    metrics=['accuracy']\n",
        "    )\n",
        "\n",
        "model.summary()"
      ],
      "metadata": {
        "colab": {
          "base_uri": "https://localhost:8080/"
        },
        "id": "Rqda5kurt2JZ",
        "outputId": "8838e4d6-2944-4c49-c058-8077cb8f5c0e"
      },
      "execution_count": 37,
      "outputs": [
        {
          "output_type": "stream",
          "name": "stdout",
          "text": [
            "Model: \"sequential_4\"\n",
            "_________________________________________________________________\n",
            " Layer (type)                Output Shape              Param #   \n",
            "=================================================================\n",
            " embedding_6 (Embedding)     (None, 32, 16)            464       \n",
            "                                                                 \n",
            " conv1d_6 (Conv1D)           (None, 32, 64)            5184      \n",
            "                                                                 \n",
            " max_pooling1d_6 (MaxPoolin  (None, 16, 64)            0         \n",
            " g1D)                                                            \n",
            "                                                                 \n",
            " lstm_6 (LSTM)               (None, 128)               98816     \n",
            "                                                                 \n",
            " flatten_3 (Flatten)         (None, 128)               0         \n",
            "                                                                 \n",
            " dense_6 (Dense)             (None, 29)                3741      \n",
            "                                                                 \n",
            "=================================================================\n",
            "Total params: 108205 (422.68 KB)\n",
            "Trainable params: 108205 (422.68 KB)\n",
            "Non-trainable params: 0 (0.00 Byte)\n",
            "_________________________________________________________________\n"
          ]
        }
      ]
    },
    {
      "cell_type": "code",
      "source": [
        "history = model.fit(\n",
        "    x_train,\n",
        "    y_train,\n",
        "    epochs=20,\n",
        "    verbose = 2 ,\n",
        "    validation_data = (x_test, y_test),\n",
        "    callbacks=[tf.keras.callbacks.EarlyStopping(monitor='val_loss', patience=2)],\n",
        "    )"
      ],
      "metadata": {
        "colab": {
          "base_uri": "https://localhost:8080/"
        },
        "id": "fAPOPpusxROO",
        "outputId": "cc64b502-2ba1-4d56-9edc-186c596f710b"
      },
      "execution_count": 39,
      "outputs": [
        {
          "output_type": "stream",
          "name": "stdout",
          "text": [
            "Epoch 1/20\n",
            "2207/2207 - 17s - loss: 2.6745 - accuracy: 0.2048 - val_loss: 2.5180 - val_accuracy: 0.2326 - 17s/epoch - 8ms/step\n",
            "Epoch 2/20\n",
            "2207/2207 - 11s - loss: 2.4501 - accuracy: 0.2588 - val_loss: 2.3884 - val_accuracy: 0.2748 - 11s/epoch - 5ms/step\n",
            "Epoch 3/20\n",
            "2207/2207 - 14s - loss: 2.3432 - accuracy: 0.2868 - val_loss: 2.3095 - val_accuracy: 0.3032 - 14s/epoch - 6ms/step\n",
            "Epoch 4/20\n",
            "2207/2207 - 11s - loss: 2.2560 - accuracy: 0.3138 - val_loss: 2.2594 - val_accuracy: 0.3172 - 11s/epoch - 5ms/step\n",
            "Epoch 5/20\n",
            "2207/2207 - 12s - loss: 2.1775 - accuracy: 0.3390 - val_loss: 2.2066 - val_accuracy: 0.3317 - 12s/epoch - 5ms/step\n",
            "Epoch 6/20\n",
            "2207/2207 - 12s - loss: 2.1063 - accuracy: 0.3615 - val_loss: 2.1642 - val_accuracy: 0.3491 - 12s/epoch - 5ms/step\n",
            "Epoch 7/20\n",
            "2207/2207 - 14s - loss: 2.0426 - accuracy: 0.3834 - val_loss: 2.1362 - val_accuracy: 0.3598 - 14s/epoch - 6ms/step\n",
            "Epoch 8/20\n",
            "2207/2207 - 15s - loss: 1.9838 - accuracy: 0.4010 - val_loss: 2.1161 - val_accuracy: 0.3653 - 15s/epoch - 7ms/step\n",
            "Epoch 9/20\n",
            "2207/2207 - 14s - loss: 1.9316 - accuracy: 0.4174 - val_loss: 2.0902 - val_accuracy: 0.3817 - 14s/epoch - 6ms/step\n",
            "Epoch 10/20\n",
            "2207/2207 - 12s - loss: 1.8821 - accuracy: 0.4340 - val_loss: 2.0835 - val_accuracy: 0.3838 - 12s/epoch - 6ms/step\n",
            "Epoch 11/20\n",
            "2207/2207 - 12s - loss: 1.8368 - accuracy: 0.4480 - val_loss: 2.0835 - val_accuracy: 0.3837 - 12s/epoch - 5ms/step\n",
            "Epoch 12/20\n",
            "2207/2207 - 12s - loss: 1.7964 - accuracy: 0.4581 - val_loss: 2.0751 - val_accuracy: 0.3941 - 12s/epoch - 5ms/step\n",
            "Epoch 13/20\n",
            "2207/2207 - 11s - loss: 1.7589 - accuracy: 0.4700 - val_loss: 2.0681 - val_accuracy: 0.3941 - 11s/epoch - 5ms/step\n",
            "Epoch 14/20\n",
            "2207/2207 - 12s - loss: 1.7238 - accuracy: 0.4790 - val_loss: 2.0687 - val_accuracy: 0.4002 - 12s/epoch - 6ms/step\n",
            "Epoch 15/20\n",
            "2207/2207 - 13s - loss: 1.6902 - accuracy: 0.4898 - val_loss: 2.0774 - val_accuracy: 0.4016 - 13s/epoch - 6ms/step\n"
          ]
        }
      ]
    },
    {
      "cell_type": "code",
      "source": [
        "def show_history(h):\n",
        "    epochs_trained = len(h.history['loss'])\n",
        "    plt.figure(figsize=(16, 6))\n",
        "\n",
        "    plt.subplot(1, 2, 1)\n",
        "    plt.plot(range(0, epochs_trained), h.history.get('accuracy'), label='Training')\n",
        "    plt.plot(range(0, epochs_trained), h.history.get('val_accuracy'), label='Validation')\n",
        "    plt.ylim([0., 1.])\n",
        "    plt.xlabel('Epochs')\n",
        "    plt.ylabel('Accuracy')\n",
        "    plt.legend()\n",
        "\n",
        "    plt.subplot(1, 2, 2)\n",
        "    plt.plot(range(0, epochs_trained), h.history.get('loss'), label='Training')\n",
        "    plt.plot(range(0, epochs_trained), h.history.get('val_loss'), label='Validation')\n",
        "    plt.xlabel('Epochs')\n",
        "    plt.ylabel('Loss')\n",
        "    plt.legend()\n",
        "    plt.show()\n",
        "\n",
        "\n",
        "show_history(history)"
      ],
      "metadata": {
        "colab": {
          "base_uri": "https://localhost:8080/",
          "height": 346
        },
        "id": "oDsn3yPwzBHf",
        "outputId": "f6b99bb3-b7a8-40ec-ea7b-ebeeadd3b533"
      },
      "execution_count": 40,
      "outputs": [
        {
          "output_type": "display_data",
          "data": {
            "text/plain": [
              "<Figure size 1600x600 with 2 Axes>"
            ],
            "image/png": "[encoded data removed]"
          },
          "metadata": {}
        }
      ]
    },
    {
      "cell_type": "markdown",
      "source": [
        "## Task 6 : Generate names"
      ],
      "metadata": {
        "id": "Jn0NXb3n3kef"
      }
    },
    {
      "cell_type": "code",
      "source": [
        "def generate_names(seed):\n",
        "  for _ in range(40):\n",
        "    input_sequence = name_to_sequence(seed)\n",
        "    padded_sequence = tf.keras.preprocessing.sequence.pad_sequences([input_sequence], truncating=\"pre\", padding='pre', maxlen=max_len - 1)\n",
        "    predicted_index = np.argmax(model.predict(padded_sequence))\n",
        "    predicted_char = index_to_char[predicted_index]\n",
        "    seed += predicted_char\n",
        "    if predicted_char == '\\t':\n",
        "      break\n",
        "  return seed[:-1]"
      ],
      "metadata": {
        "id": "z5ITUko31HJF"
      },
      "execution_count": 52,
      "outputs": []
    },
    {
      "cell_type": "code",
      "source": [
        "generate_names('dark')"
      ],
      "metadata": {
        "colab": {
          "base_uri": "https://localhost:8080/",
          "height": 196
        },
        "id": "7P67mbQg3vuy",
        "outputId": "affaaf26-9915-4ac6-8b88-b78df987d9b8"
      },
      "execution_count": 72,
      "outputs": [
        {
          "output_type": "stream",
          "name": "stdout",
          "text": [
            "1/1 [==============================] - 0s 19ms/step\n",
            "1/1 [==============================] - 0s 18ms/step\n",
            "1/1 [==============================] - 0s 17ms/step\n",
            "1/1 [==============================] - 0s 17ms/step\n",
            "1/1 [==============================] - 0s 17ms/step\n",
            "1/1 [==============================] - 0s 17ms/step\n",
            "1/1 [==============================] - 0s 17ms/step\n",
            "1/1 [==============================] - 0s 18ms/step\n",
            "1/1 [==============================] - 0s 17ms/step\n"
          ]
        },
        {
          "output_type": "execute_result",
          "data": {
            "text/plain": [
              "'dark phoenix'"
            ],
            "application/vnd.google.colaboratory.intrinsic+json": {
              "type": "string"
            }
          },
          "metadata": {},
          "execution_count": 72
        }
      ]
    }
  ]
}